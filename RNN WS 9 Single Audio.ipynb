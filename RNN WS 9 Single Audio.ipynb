{
 "cells": [
  {
   "cell_type": "code",
   "execution_count": 1,
   "metadata": {},
   "outputs": [],
   "source": [
    "import os\n",
    "import torch\n",
    "import torch.nn as nn\n",
    "import numpy as np\n",
    "import matplotlib.pyplot as plt         \n",
    "import sys\n",
    "import pickle\n",
    "import librosa\n",
    "import scipy.io.wavfile as wav\n",
    "import matplotlib.pyplot as plt\n",
    "import librosa.display\n",
    "import IPython.display as ipd\n",
    "from sklearn.preprocessing import normalize\n",
    "import sounddevice as sd\n",
    "import time\n"
   ]
  },
  {
   "cell_type": "code",
   "execution_count": 6,
   "metadata": {},
   "outputs": [
    {
     "name": "stdout",
     "output_type": "stream",
     "text": [
      "[0. 0. 0. ... 0. 0. 0.]\n",
      "(58752,)\n",
      "1.3322448979591837\n"
     ]
    }
   ],
   "source": [
    "# Choosing one file from our dataset, that we already have as a numpy array.\n",
    "\n",
    "#a = np.load('/Users/DELL/Updated_binder_enviro/all-samples/cello/cello_A2_1_forte_arco-normal.npy') #numpy array of the audio file\n",
    "a, Fs=librosa.load('cello_A2_1_forte_arco-normal.mp3',sr=None)       #to load the mp3 file directly                                                        \n",
    "Fs=44100 #sampling rate of the audio signal\n",
    "print(a)\n",
    "print(a.shape)\n",
    "ipd.Audio(data=a,rate=Fs,autoplay=True) \n",
    "duration =librosa.get_duration(y=a, sr=Fs)\n",
    "print(duration)"
   ]
  },
  {
   "cell_type": "code",
   "execution_count": 22,
   "metadata": {},
   "outputs": [
    {
     "name": "stdout",
     "output_type": "stream",
     "text": [
      "705\n",
      "705\n"
     ]
    }
   ],
   "source": [
    "val = next((index for index,value in enumerate(a) if value != 0), None) #finding index of first non zero value occurence in the array\n",
    "print(val)\n",
    "print((a!=0).argmax(axis=0))"
   ]
  },
  {
   "cell_type": "code",
   "execution_count": 8,
   "metadata": {},
   "outputs": [],
   "source": [
    "infeatures= 1 # samples per input time step\n",
    "hiddensize= 3 #number of hidden states, the memory elements\n",
    "outputs=1 #1 samples per output time step\n",
    "numlayers=1 #number of layers of the network\n"
   ]
  },
  {
   "cell_type": "code",
   "execution_count": 9,
   "metadata": {},
   "outputs": [
    {
     "name": "stdout",
     "output_type": "stream",
     "text": [
      "22050\n"
     ]
    }
   ],
   "source": [
    "batch=1 #number of audio signals for training\n",
    "seq_len=int(Fs*0.5) # Taking the length of sound as just 0.5 seconds (Original length of sound=1.332244 secs)\n",
    "print(seq_len)"
   ]
  },
  {
   "cell_type": "code",
   "execution_count": 10,
   "metadata": {},
   "outputs": [
    {
     "name": "stdout",
     "output_type": "stream",
     "text": [
      "device= cpu\n"
     ]
    }
   ],
   "source": [
    "# Device configuration\n",
    "#device = torch.device('cuda' if torch.cuda.is_available() else 'cpu')\n",
    "device='cpu'\n",
    "print(\"device=\", device) "
   ]
  },
  {
   "cell_type": "code",
   "execution_count": 11,
   "metadata": {},
   "outputs": [],
   "source": [
    "class RNNnet(nn.Module):\n",
    "    def __init__(self, infeatures, hiddensize, outputs):\n",
    "      super(RNNnet, self).__init__()\n",
    "      # Define the model. \n",
    "      self.rnn = nn.RNN(input_size=infeatures, hidden_size=hiddensize, num_layers=numlayers, bias=False)\n",
    "      #forward layer for output\n",
    "      self.fo = nn.Linear(hiddensize, outputs, bias=False)\n",
    "\n",
    "\n",
    "    def forward(self, x):\n",
    "      h_0 = torch.zeros(numlayers, batch, hiddensize).to(device)\n",
    "      out, hn = self.rnn(x, h_0)\n",
    "      #Output is simply the hidden state of the last layer (if more than 1 layer)\n",
    "      out = self.fo(out) #e.g. used to just keep first output\n",
    "      return out"
   ]
  },
  {
   "cell_type": "code",
   "execution_count": 12,
   "metadata": {},
   "outputs": [],
   "source": [
    "def signal2pytorch(x):\n",
    "   #Function to convert a signal vector x, like a mono audio signal, into a 3-d Tensor that Pytorch expects,\n",
    "   #https://pytorch.org/docs/stable/nn.html\n",
    "   #Argument x: a 1-d signal as numpy array\n",
    "   #output: 3-d Pytorch Tensor.\n",
    "   #for RNN Input: (siglen,batch,features)\n",
    "   X = np.expand_dims(x, axis=-1)  #add batch  dimension (here only 1 )\n",
    "   X = np.expand_dims(X, axis=-1)  #add features dimension (here only 1 )\n",
    "   X=torch.from_numpy(X)\n",
    "   X=X.type(torch.Tensor)\n",
    "   return X"
   ]
  },
  {
   "cell_type": "code",
   "execution_count": 23,
   "metadata": {},
   "outputs": [
    {
     "name": "stdout",
     "output_type": "stream",
     "text": [
      "22050\n"
     ]
    },
    {
     "data": {
      "text/plain": [
       "[<matplotlib.lines.Line2D at 0x2b398836d08>]"
      ]
     },
     "execution_count": 23,
     "metadata": {},
     "output_type": "execute_result"
    },
    {
     "data": {
      "image/png": "[encoded data removed]",
      "text/plain": [
       "<Figure size 432x288 with 1 Axes>"
      ]
     },
     "metadata": {
      "needs_background": "light"
     },
     "output_type": "display_data"
    }
   ],
   "source": [
    "ximp=np.zeros(seq_len) #make impulse with a desired sequence length\n",
    "ximp[705]=1.0 #impulse at the beginning Ximp input name is same, position of impulse is changed to 705\n",
    "\n",
    "filtered = a[0:22050] # Shortening the length of the original audio(a) to the length equal to the input ximp = 22050 \n",
    "                        #and saving it in variable filtered This is also our target, which I changed from the workshop\n",
    "print(len(filtered))\n",
    "\n",
    "sd.play(filtered, Fs)\n",
    "\n",
    "\n",
    "plt.plot(filtered)\n"
   ]
  },
  {
   "cell_type": "code",
   "execution_count": 24,
   "metadata": {},
   "outputs": [
    {
     "name": "stdout",
     "output_type": "stream",
     "text": [
      "inputsig.type()= torch.FloatTensor\n",
      "inputsig= <built-in method size of Tensor object at 0x000002B398820B38>\n"
     ]
    }
   ],
   "source": [
    "inputsig=signal2pytorch(ximp)\n",
    "\n",
    "print(\"inputsig.type()=\", inputsig.type())\n",
    "print(\"inputsig=\", inputsig.size)"
   ]
  },
  {
   "cell_type": "code",
   "execution_count": 25,
   "metadata": {},
   "outputs": [
    {
     "name": "stdout",
     "output_type": "stream",
     "text": [
      "weights = OrderedDict([('rnn.weight_ih_l0', tensor([[ 0.0634],\n",
      "        [-0.2729],\n",
      "        [ 0.0517]])), ('rnn.weight_hh_l0', tensor([[ 0.4642, -0.1830, -0.5528],\n",
      "        [-0.4948, -0.0592, -0.4524],\n",
      "        [ 0.1281, -0.4890,  0.5089]])), ('fo.weight', tensor([[-0.1775, -0.0063, -0.0801]]))])\n",
      "weights shape= 3\n"
     ]
    }
   ],
   "source": [
    "#Recurrent Neural Network model:\n",
    "#hidden state update formula:\n",
    "#ht=tanh(wih xt+bih+whh h(tâˆ’1)+bhh)\n",
    "\n",
    "#rnn = nn.RNN(input_size=infeatures, hidden_size=hiddensize, num_layers=numlayers, bias=False)\n",
    "\n",
    "rnn = RNNnet(infeatures, hiddensize, outputs).to(device)\n",
    "\n",
    "ww = rnn.state_dict()   #read obtained weights\n",
    "print(\"weights =\", ww)\n",
    "print(\"weights shape=\", len(ww))"
   ]
  },
  {
   "cell_type": "code",
   "execution_count": 26,
   "metadata": {},
   "outputs": [
    {
     "name": "stdout",
     "output_type": "stream",
     "text": [
      "target.type()= torch.FloatTensor\n",
      "target= tensor([[[0.0000]],\n",
      "\n",
      "        [[0.0000]],\n",
      "\n",
      "        [[0.0000]],\n",
      "\n",
      "        ...,\n",
      "\n",
      "        [[0.0549]],\n",
      "\n",
      "        [[0.0591]],\n",
      "\n",
      "        [[0.0627]]])\n"
     ]
    }
   ],
   "source": [
    "target= signal2pytorch(filtered)\n",
    "print(\"target.type()=\", target.type())\n",
    "print(\"target=\", target)"
   ]
  },
  {
   "cell_type": "code",
   "execution_count": 27,
   "metadata": {},
   "outputs": [
    {
     "data": {
      "text/plain": [
       "tensor([ 1.0045, -0.2802, -0.3004])"
      ]
     },
     "execution_count": 27,
     "metadata": {},
     "output_type": "execute_result"
    }
   ],
   "source": [
    "#random starting point as initialization:\n",
    "#rnn.state_dict()['rnn.weight_hh_l0'].data.copy_(torch.randn(hiddensize,hiddensize))\n",
    "\n",
    "rnn.state_dict()['rnn.weight_hh_l0'].data.copy_(torch.zeros(hiddensize,hiddensize))\n",
    "\n",
    "#rnn.state_dict()['rnn.weight_ih_l0'].data.copy_(torch.randn((hiddensize,1)))\n",
    "rnn.state_dict()['rnn.weight_ih_l0'].data.copy_(torch.zeros((hiddensize,1)))\n",
    "\n",
    "#rnn.state_dict()['fo.weight'][0,:].data.copy_(torch.tensor([ 1.0, 0.0 ,0.0]))\n",
    "\n",
    "#rnn.state_dict()['fo.weight'][0,:].data.copy_(torch.zeros(hiddensize))\n",
    "rnn.state_dict()['fo.weight'][0,:].data.copy_(torch.randn(hiddensize))"
   ]
  },
  {
   "cell_type": "code",
   "execution_count": 30,
   "metadata": {},
   "outputs": [
    {
     "name": "stdout",
     "output_type": "stream",
     "text": [
      "weights = OrderedDict([('rnn.weight_ih_l0', tensor([[ 0.4788],\n",
      "        [ 0.3719],\n",
      "        [-0.3092]])), ('rnn.weight_hh_l0', tensor([[ 0.4600,  0.3190,  0.4101],\n",
      "        [-0.3642, -0.4438,  0.1306],\n",
      "        [-0.0409, -0.2157,  0.3733]])), ('fo.weight', tensor([[0.3911, 0.2798, 0.5666]]))])\n",
      "Total number of parameters: 15\n"
     ]
    }
   ],
   "source": [
    "#rnn.__init__(infeatures, hiddensize)\n",
    "rnn = RNNnet(infeatures, hiddensize, outputs).to(device)\n",
    "\n",
    "ww = rnn.state_dict()   #read current weights\n",
    "print(\"weights =\", ww)\n",
    "print('Total number of parameters: %i' % (sum(p.numel() for p in rnn.parameters() if p.requires_grad)))"
   ]
  },
  {
   "cell_type": "code",
   "execution_count": 31,
   "metadata": {},
   "outputs": [
    {
     "name": "stdout",
     "output_type": "stream",
     "text": [
      "starting loss: 69.1661605834961\n",
      "Starting training the neural network\n"
     ]
    },
    {
     "data": {
      "text/plain": [
       "1"
      ]
     },
     "execution_count": 31,
     "metadata": {},
     "output_type": "execute_result"
    }
   ],
   "source": [
    "loss_fn = nn.MSELoss(size_average=False)\n",
    "#learning_rate = 1e-3\n",
    "optimizer = torch.optim.Adam(rnn.parameters())#, lr=learning_rate)\n",
    "\n",
    "Ypred=rnn(inputsig)\n",
    "print(\"starting loss:\", loss_fn(Ypred, target).item())\n",
    "#print(\"Start optimization\") \n",
    "print(\"Starting training the neural network\")\n",
    "os.system('espeak -s 120 \"Starting training the neural network\"')"
   ]
  },
  {
   "cell_type": "code",
   "execution_count": 32,
   "metadata": {},
   "outputs": [
    {
     "name": "stdout",
     "output_type": "stream",
     "text": [
      "0 69.1661605834961\n",
      "10 69.15945434570312\n",
      "20 69.15392303466797\n",
      "30 69.14950561523438\n",
      "40 69.14608001708984\n",
      "50 69.14344787597656\n",
      "60 69.14144897460938\n",
      "70 69.13993835449219\n",
      "80 69.13880157470703\n",
      "90 69.13795471191406\n",
      "100 69.13732147216797\n",
      "110 69.1368637084961\n",
      "120 69.13652801513672\n",
      "130 69.13628387451172\n",
      "140 69.13610076904297\n",
      "150 69.13597106933594\n",
      "160 69.13587951660156\n",
      "170 69.13580322265625\n",
      "180 69.1357421875\n",
      "190 69.13569641113281\n",
      "200 69.13565826416016\n",
      "210 69.13562774658203\n",
      "220 69.13560485839844\n",
      "230 69.13558197021484\n",
      "240 69.13555908203125\n",
      "250 69.13554382324219\n",
      "260 69.13552856445312\n",
      "270 69.1355209350586\n",
      "280 69.13551330566406\n",
      "290 69.13550567626953\n",
      "300 69.135498046875\n",
      "310 69.13549041748047\n",
      "320 69.13549041748047\n",
      "330 69.13548278808594\n",
      "340 69.13548278808594\n",
      "350 69.1354751586914\n",
      "360 69.1354751586914\n",
      "370 69.1354751586914\n",
      "380 69.1354751586914\n",
      "390 69.1354751586914\n",
      "400 69.1354751586914\n",
      "410 69.13546752929688\n",
      "420 69.13546752929688\n",
      "430 69.13546752929688\n",
      "440 69.13546752929688\n",
      "450 69.13546752929688\n",
      "460 69.13546752929688\n",
      "470 69.13546752929688\n",
      "480 69.13546752929688\n",
      "490 69.13546752929688\n"
     ]
    }
   ],
   "source": [
    "randdir=False #True for optimization of random directions\n",
    "#--Start optimization of random directions------------------------\n",
    "if randdir == True:\n",
    "   #optimization of weights using method of random directions:\n",
    "   starttime=time.time()\n",
    "\n",
    "   optimrandomdir_pytorch.optimizer(rnn, loss_fn, inputsig, target, iterations=1500, startingscale=0.1, endscale=0.0)\n",
    "\n",
    "   endtime=time.time()\n",
    "   print(\"Duration of optimization:\", endtime-starttime)\n",
    "   #--End optimization of random directions------------------------\n",
    "\n",
    "else:\n",
    "   starttime=time.time()\n",
    "   for epoch in range(500):\n",
    "       Ypred=rnn(inputsig)\n",
    "       loss=loss_fn(Ypred, target)\n",
    "       if epoch%10==0:\n",
    "          print(epoch, loss.item())\n",
    "       optimizer.zero_grad()\n",
    "       loss.backward()\n",
    "       optimizer.step()\n",
    "   endtime=time.time()"
   ]
  },
  {
   "cell_type": "code",
   "execution_count": 34,
   "metadata": {},
   "outputs": [
    {
     "name": "stdout",
     "output_type": "stream",
     "text": [
      "[[[0.]]\n",
      "\n",
      " [[0.]]\n",
      "\n",
      " [[0.]]\n",
      "\n",
      " ...\n",
      "\n",
      " [[0.]]\n",
      "\n",
      " [[0.]]\n",
      "\n",
      " [[0.]]]\n",
      "[0. 0. 0. ... 0. 0. 0.]\n"
     ]
    },
    {
     "data": {
      "image/png": "[encoded data removed]",
      "text/plain": [
       "<Figure size 432x288 with 1 Axes>"
      ]
     },
     "metadata": {
      "needs_background": "light"
     },
     "output_type": "display_data"
    },
    {
     "name": "stdout",
     "output_type": "stream",
     "text": [
      "weights = OrderedDict([('rnn.weight_ih_l0', tensor([[ 0.4148],\n",
      "        [ 0.2894],\n",
      "        [-0.3434]])), ('rnn.weight_hh_l0', tensor([[ 0.5411,  0.4576,  0.3193],\n",
      "        [-0.2711, -0.3070,  0.0295],\n",
      "        [ 0.0463, -0.0703,  0.2774]])), ('fo.weight', tensor([[0.4018, 0.1754, 0.6264]]))])\n"
     ]
    }
   ],
   "source": [
    "outsig= rnn(inputsig)\n",
    "outsig=outsig.detach()\n",
    "outsig=np.array(outsig) #turn into numpy array\n",
    "print(outsig)\n",
    "outsig=outsig[:,0,0]\n",
    "print(outsig)\n",
    "\n",
    "plt.plot(filtered)\n",
    "plt.plot(outsig)\n",
    "plt.legend(('Audio target','RNN Output'))\n",
    "plt.xlabel('Sample')\n",
    "plt.ylabel('Value')\n",
    "plt.title(\"The Original Shortened Audio signal and the trained RNN\")\n",
    "plt.show()\n",
    "\n",
    "os.system('espeak -s 120 \"The impulse response sound from the trained recurrent neural network\"')\n",
    "sd.play(outsig, Fs)\n",
    "\n",
    "ww = rnn.state_dict()   #read obtained weights\n",
    "print(\"weights =\", ww)\n"
   ]
  },
  {
   "cell_type": "code",
   "execution_count": null,
   "metadata": {},
   "outputs": [],
   "source": []
  },
  {
   "cell_type": "code",
   "execution_count": null,
   "metadata": {},
   "outputs": [],
   "source": []
  },
  {
   "cell_type": "code",
   "execution_count": null,
   "metadata": {},
   "outputs": [],
   "source": []
  }
 ],
 "metadata": {
  "kernelspec": {
   "display_name": "Python 3",
   "language": "python",
   "name": "python3"
  },
  "language_info": {
   "codemirror_mode": {
    "name": "ipython",
    "version": 3
   },
   "file_extension": ".py",
   "mimetype": "text/x-python",
   "name": "python",
   "nbconvert_exporter": "python",
   "pygments_lexer": "ipython3",
   "version": "3.7.9"
  }
 },
 "nbformat": 4,
 "nbformat_minor": 4
}
